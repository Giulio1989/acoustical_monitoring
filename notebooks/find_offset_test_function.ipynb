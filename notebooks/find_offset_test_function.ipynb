{
 "cells": [
  {
   "cell_type": "code",
   "execution_count": 1,
   "metadata": {
    "collapsed": true
   },
   "outputs": [],
   "source": [
    "# imports libraries\n",
    "import os\n",
    "import sys\n",
    "import glob\n",
    "#import scipy.io.wavfile\n",
    "import matplotlib.pyplot as plt\n",
    "import numpy as np\n",
    "from scipy import signal\n",
    "#import importlib\n",
    "\n",
    "%matplotlib inline \n",
    "\n",
    "# Grabs the preprocessing and automatic_sync files\n",
    "sys.path.append(os.path.join(os.getcwd(),'pythonCode'))\n",
    "import preprocessing as pp\n",
    "import automatic_sync as autoS"
   ]
  },
  {
   "cell_type": "code",
   "execution_count": 59,
   "metadata": {
    "collapsed": false
   },
   "outputs": [
    {
     "name": "stdout",
     "output_type": "stream",
     "text": [
      "Opening GP_B1_SL_12 ...\n"
     ]
    }
   ],
   "source": [
    "rawDataPath = os.path.join(os.getcwd(),'rawData')\n",
    "files = glob.glob(os.path.join(rawDataPath,'*.wav'))\n",
    "names = []\n",
    "        \n",
    "for name in files:\n",
    "    fileName = os.path.basename(name).split(\".\")[0]\n",
    "    names.append(fileName)\n",
    "\n",
    "# Determines which cameras will be selected (['Bents'],['Camera Location'],['Motion #'])\n",
    "\n",
    "filt = (['B1'],['SL'],['12']) # Selects the bent 1 cameras during motion 18\n",
    "\n",
    "# Applies filter to camera names and returns only selected subset names\n",
    "audioFiles = pp.getKeys(names,filt);\n",
    "\n",
    "# Reads the .wav files from the list generted by getKeys\n",
    "(names,cDataset) = pp.readWAV(rawDataPath,audioFiles);"
   ]
  },
  {
   "cell_type": "code",
   "execution_count": 70,
   "metadata": {
    "collapsed": false
   },
   "outputs": [],
   "source": [
    "def test_shift(signal,shift):\n",
    "    ''' Bool = test_shift(signal,shift) Tests the find_offset function by:\n",
    "        (1) Takes a signal size (N,) as input\n",
    "        (2) Aritifically shifts signal by counts input into function\n",
    "        (3) Calls the find_offset function to determine signal offsets\n",
    "        (4) Returns \"True\" if the identified offset = input shift\n",
    "            Returns \"False\" if the identified offset != input shift\n",
    "    '''\n",
    "    # makes some \"phony\" data\n",
    "    phonyData = {}\n",
    "    phonyData['Original'] = np.transpose(np.vstack((signal,signal)))\n",
    "    \n",
    "    if shift < 0:\n",
    "        # negtive shift\n",
    "        phonyData['Shifted'] = np.vstack((np.zeros((abs(shift),2)),phonyData['Original'])) \n",
    "    else:\n",
    "        # positive shift\n",
    "        phonyData['Shifted'] = phonyData['Original'][shift:,:] \n",
    "        \n",
    "    phonyOffsets = autoS.find_offset(phonyData,'Original',['Shifted'])\n",
    "\n",
    "    #print(phonyOffsets) # prints the offsets in counts\n",
    "    if phonyOffsets['Shifted'] == shift:\n",
    "        return True\n",
    "    else:\n",
    "        return False"
   ]
  },
  {
   "cell_type": "code",
   "execution_count": 71,
   "metadata": {
    "collapsed": false
   },
   "outputs": [
    {
     "name": "stdout",
     "output_type": "stream",
     "text": [
      "True\n",
      "True\n"
     ]
    }
   ],
   "source": [
    "print(test_shift(cDataset[names[0]][:,0],-200))\n",
    "print(test_shift(cDataset[names[0]][:,0],300))"
   ]
  },
  {
   "cell_type": "code",
   "execution_count": null,
   "metadata": {
    "collapsed": false
   },
   "outputs": [],
   "source": []
  }
 ],
 "metadata": {
  "kernelspec": {
   "display_name": "Python 3",
   "language": "python",
   "name": "python3"
  },
  "language_info": {
   "codemirror_mode": {
    "name": "ipython",
    "version": 3
   },
   "file_extension": ".py",
   "mimetype": "text/x-python",
   "name": "python",
   "nbconvert_exporter": "python",
   "pygments_lexer": "ipython3",
   "version": "3.5.1"
  }
 },
 "nbformat": 4,
 "nbformat_minor": 0
}
