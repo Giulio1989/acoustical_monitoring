{
 "cells": [
  {
   "cell_type": "markdown",
   "metadata": {},
   "source": [
    "#### Explore some edge detection algorithms"
   ]
  },
  {
   "cell_type": "code",
   "execution_count": 1,
   "metadata": {
    "collapsed": true
   },
   "outputs": [],
   "source": [
    "# imports libraries\n",
    "import os\n",
    "import sys\n",
    "import imp\n",
    "import glob\n",
    "\n",
    "import matplotlib.pyplot as plt\n",
    "import numpy as np\n",
    "from scipy import signal\n",
    "#import importlib\n",
    "import math\n",
    "import pandas as pd\n",
    "\n",
    "%matplotlib inline \n",
    "\n",
    "# Grabs the preprocessing and automatic_sync files\n",
    "sys.path.append(os.path.join(os.pardir,'pythonCode'))\n",
    "import preprocessing as pp\n",
    "import automatic_sync as autoS\n",
    "from __future__ import division"
   ]
  },
  {
   "cell_type": "code",
   "execution_count": 2,
   "metadata": {
    "collapsed": false
   },
   "outputs": [
    {
     "data": {
      "text/plain": [
       "<module 'automatic_sync' from '../pythonCode/automatic_sync.py'>"
      ]
     },
     "execution_count": 2,
     "metadata": {},
     "output_type": "execute_result"
    }
   ],
   "source": [
    "import fracture_prediction as predict\n",
    "imp.reload(predict)\n",
    "imp.reload(autoS)"
   ]
  },
  {
   "cell_type": "code",
   "execution_count": 3,
   "metadata": {
    "collapsed": false
   },
   "outputs": [
    {
     "name": "stdout",
     "output_type": "stream",
     "text": [
      "Opening GP_B1_NL_18 ...\n",
      "Opening GP_B1_NU_18 ...\n",
      "Opening GP_B1_SL_18 ...\n",
      "Opening GP_B1_SU_18 ...\n",
      "Opening GP_B2_SL_18 ...\n",
      "Opening GP_B2_SU_18 ...\n",
      "Opening GP_B3_NL_18 ...\n",
      "Opening GP_B3_NU_18 ...\n",
      "Opening GP_B3_SL_18 ...\n",
      "Opening GP_B3_SU_18 ...\n"
     ]
    }
   ],
   "source": [
    "# reading the data\n",
    "\n",
    "rawDataPath = os.path.join(os.pardir,'rawAudio')\n",
    "files = glob.glob(os.path.join(rawDataPath,'*.wav'))\n",
    "names = []\n",
    "        \n",
    "for name in files:\n",
    "    fileName = os.path.basename(name).split(\".\")[0]\n",
    "    names.append(fileName)\n",
    "\n",
    "# Determines which cameras will be selected (['Bents'],['Camera Location'],['Motion #'])\n",
    "\n",
    "filt = (None,None,['18']) # Selects the bent 1 cameras during motion 18\n",
    "\n",
    "# Applies filter to camera names and returns only selected subset names\n",
    "audioFiles = pp.getKeys(names,filt);\n",
    "\n",
    "# Reads the .wav files from the list generted by getKeys\n",
    "(names,cDataset) = pp.readWAV(rawDataPath,audioFiles)"
   ]
  },
  {
   "cell_type": "code",
   "execution_count": 4,
   "metadata": {
    "collapsed": false,
    "scrolled": true
   },
   "outputs": [],
   "source": [
    "## syncing the dataset\n",
    "final_offsets, sDataset = autoS.sync_dataset(cDataset,'GP_B1_NL_18',names,mask=[0,1])\n",
    "#(dataset,indexName,names,max_iter = 2,mask=[0,1])\n",
    "# print(autoS.find_offset(sDataset,names[0],names[1:]))"
   ]
  },
  {
   "cell_type": "code",
   "execution_count": 5,
   "metadata": {
    "collapsed": false
   },
   "outputs": [
    {
     "data": {
      "text/plain": [
       "{'GP_B1_NL_18': 85198,\n",
       " 'GP_B1_NU_18': 85082,\n",
       " 'GP_B1_SL_18': 85041,\n",
       " 'GP_B1_SU_18': 84693,\n",
       " 'GP_B2_SL_18': 3018,\n",
       " 'GP_B2_SU_18': 0,\n",
       " 'GP_B3_NL_18': 80861,\n",
       " 'GP_B3_NU_18': 81723,\n",
       " 'GP_B3_SL_18': 81942,\n",
       " 'GP_B3_SU_18': 82591}"
      ]
     },
     "execution_count": 5,
     "metadata": {},
     "output_type": "execute_result"
    }
   ],
   "source": [
    "final_offsets"
   ]
  },
  {
   "cell_type": "code",
   "execution_count": 6,
   "metadata": {
    "collapsed": false
   },
   "outputs": [],
   "source": [
    "# res = [features.edges2fractures(cDataset[key][:,0]) for key in cDataset.keys()]"
   ]
  },
  {
   "cell_type": "code",
   "execution_count": null,
   "metadata": {
    "collapsed": false
   },
   "outputs": [
    {
     "data": {
      "text/plain": [
       "['GP_B3_SL_18',\n",
       " 'GP_B2_SU_18',\n",
       " 'GP_B3_NU_18',\n",
       " 'GP_B2_SL_18',\n",
       " 'GP_B1_NL_18',\n",
       " 'GP_B1_SL_18',\n",
       " 'GP_B3_SU_18',\n",
       " 'GP_B1_NU_18',\n",
       " 'GP_B1_SU_18']"
      ]
     },
     "execution_count": 7,
     "metadata": {},
     "output_type": "execute_result"
    }
   ],
   "source": [
    "[k for k in cDataset.keys() if k != 'GP_B3_NL_18']"
   ]
  },
  {
   "cell_type": "code",
   "execution_count": null,
   "metadata": {
    "collapsed": false
   },
   "outputs": [],
   "source": [
    "# extract fractures for each signal in the dataset (only the first channel)\n",
    "fractureTimes = predict.applyFracturePredictor(sDataset, predict.edges2fractures, smoothing=5)"
   ]
  },
  {
   "cell_type": "code",
   "execution_count": null,
   "metadata": {
    "collapsed": false
   },
   "outputs": [],
   "source": [
    "# read Islam's estimates\n",
    "\n",
    "import csv\n",
    "print(os.pardir)\n",
    "csvPath = os.path.join(os.pardir,'IslamEstimates')\n",
    "fileName = glob.glob(os.path.join(csvPath,'GP_B1_NL_18.csv'))\n",
    "\n",
    "fractInd = list(csv.reader(open(fileName[0], 'rt'), delimiter=','))\n",
    "fractInd = np.array([float(i[0]) for i in fractInd]) # in counts\n",
    "print(fractInd)\n",
    "\n",
    "fractIM = 1/48000*(-final_offsets['GP_B1_NL_18'] + fractInd)\n",
    "print(fractIM)"
   ]
  },
  {
   "cell_type": "code",
   "execution_count": null,
   "metadata": {
    "collapsed": false
   },
   "outputs": [],
   "source": [
    "# visualized the fracture estimates\n",
    "index = 1\n",
    "for name in names:\n",
    "    plt.plot(fractureTimes[name], index*np.ones_like(fractureTimes[name]),'ko')\n",
    "    index += 1\n",
    "plt.plot([fractIM,fractIM],[0,len(names)+1],'r')\n",
    "plt.yticks(np.arange(1,len(names)+1), names)\n",
    "plt.xlim(30,40)\n",
    "plt.show()"
   ]
  },
  {
   "cell_type": "code",
   "execution_count": null,
   "metadata": {
    "collapsed": false
   },
   "outputs": [],
   "source": [
    "# Calculate the dissimilarity measure\n",
    "d = {}\n",
    "for key in fractureTimes.keys():\n",
    "    d[key] = (predict.dissimilarity(fractureTimes[key],fractIM,0.1,1.,'distance'))"
   ]
  },
  {
   "cell_type": "code",
   "execution_count": null,
   "metadata": {
    "collapsed": false
   },
   "outputs": [],
   "source": []
  },
  {
   "cell_type": "code",
   "execution_count": null,
   "metadata": {
    "collapsed": false
   },
   "outputs": [],
   "source": [
    "d"
   ]
  },
  {
   "cell_type": "code",
   "execution_count": null,
   "metadata": {
    "collapsed": true
   },
   "outputs": [],
   "source": []
  },
  {
   "cell_type": "code",
   "execution_count": null,
   "metadata": {
    "collapsed": true
   },
   "outputs": [],
   "source": []
  },
  {
   "cell_type": "code",
   "execution_count": null,
   "metadata": {
    "collapsed": true
   },
   "outputs": [],
   "source": []
  }
 ],
 "metadata": {
  "kernelspec": {
   "display_name": "Python 3",
   "language": "python",
   "name": "python3"
  },
  "language_info": {
   "codemirror_mode": {
    "name": "ipython",
    "version": 3
   },
   "file_extension": ".py",
   "mimetype": "text/x-python",
   "name": "python",
   "nbconvert_exporter": "python",
   "pygments_lexer": "ipython3",
   "version": "3.4.4"
  }
 },
 "nbformat": 4,
 "nbformat_minor": 0
}
