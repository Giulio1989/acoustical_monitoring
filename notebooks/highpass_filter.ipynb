{
 "cells": [
  {
   "cell_type": "code",
   "execution_count": null,
   "metadata": {
    "collapsed": true
   },
   "outputs": [],
   "source": [
    "# imports libraries\n",
    "import os\n",
    "import sys\n",
    "import glob\n",
    "#import scipy.io.wavfile\n",
    "import matplotlib.pyplot as plt\n",
    "import numpy as np\n",
    "from scipy import signal\n",
    "#import importlib\n",
    "import math\n",
    "\n",
    "%matplotlib inline \n",
    "\n",
    "# Grabs the preprocessing and automatic_sync files\n",
    "sys.path.append(os.path.join(os.pardir,'pythonCode'))\n",
    "import preprocessing as pp\n",
    "import automatic_sync as autoS"
   ]
  },
  {
   "cell_type": "code",
   "execution_count": null,
   "metadata": {
    "collapsed": true
   },
   "outputs": [],
   "source": [
    "rawDataPath = os.path.join(os.pardir,'rawData')\n",
    "files = glob.glob(os.path.join(rawDataPath,'*.wav'))\n",
    "names = []\n",
    "        \n",
    "for name in files:\n",
    "    fileName = os.path.basename(name).split(\".\")[0]\n",
    "    names.append(fileName)\n",
    "\n",
    "# Determines which cameras will be selected (['Bents'],['Camera Location'],['Motion #'])\n",
    "\n",
    "filt = (None,None,['18']) # Selects the bent 1 cameras during motion 18\n",
    "\n",
    "# Applies filter to camera names and returns only selected subset names\n",
    "audioFiles = pp.getKeys(names,filt);\n",
    "\n",
    "# Reads the .wav files from the list generted by getKeys\n",
    "(names,cDataset) = pp.readWAV(rawDataPath,audioFiles);"
   ]
  },
  {
   "cell_type": "code",
   "execution_count": null,
   "metadata": {
    "collapsed": true
   },
   "outputs": [],
   "source": [
    "def highpass_filter(origSignal,Fs,F1,F2,method='butter',show=False):\n",
    "    '''\n",
    "    \n",
    "    '''\n",
    "    Nf = Fs/2; # Nyquist freqency in Hz\n",
    "    b,a = signal.iirdesign(F1/Nf,F2/Nf,0.2,80,ftype=method)\n",
    "    w, h = signal.freqz(b, a)\n",
    "    \n",
    "    if show is True:\n",
    "        fig = plt.figure()\n",
    "        plt.title('Digital filter frequency response')\n",
    "        plt.plot(Nf*w/math.pi, 20 * np.log10(abs(h)), 'b')\n",
    "        plt.ylabel('Amplitude [dB]', color='b')\n",
    "        plt.xlabel('Frequency [Hz]')\n",
    "        return None, None\n",
    "    elif show is False:\n",
    "        filteredSignal = signal.filtfilt(b,a,origSignal,padlen=150)\n",
    "        time = np.linspace(0,(1/Fs)*len(filteredSignal),len(filteredSignal))\n",
    "        return time, filteredSignal"
   ]
  },
  {
   "cell_type": "code",
   "execution_count": null,
   "metadata": {
    "collapsed": true
   },
   "outputs": [],
   "source": [
    "# Displays highpass filter design\n",
    "time, newSig = highpass_filter(None,48000,15000,11000,show=True)"
   ]
  },
  {
   "cell_type": "code",
   "execution_count": null,
   "metadata": {
    "collapsed": true
   },
   "outputs": [],
   "source": [
    "# Applies a high pass filter over each of the channels to reduce noise levels\n",
    "plt.figure(figsize=(30,20*len(offsets)-1))\n",
    "count = 1\n",
    "means = {}\n",
    "\n",
    "chan0 = sDataset[names[0]][:,0]\n",
    "time, newSig0 = highpass_filter(chan0,48000,14000,10000)\n",
    "\n",
    "for name in names[1:]:\n",
    "    chan = sDataset[name][:,0] \n",
    "    time, newSig = highpass_filter(chan,48000,14000,10000)\n",
    "    \n",
    "    plt.subplot(len(offsets)-1,1,count)\n",
    "    plt.plot(time,abs(newSig0),'b')\n",
    "    plt.plot(time,-abs(newSig),'r')\n",
    "    plt.xlabel('Time[sec]')\n",
    "    plt.ylabel('Signal')\n",
    "    plt.title(names[0] + \" : \" + name)\n",
    "    plt.grid()\n",
    "    count = count+1\n",
    "    \n",
    "plt.draw()"
   ]
  },
  {
   "cell_type": "code",
   "execution_count": null,
   "metadata": {
    "collapsed": true
   },
   "outputs": [],
   "source": [
    "# Adds all of the channels together. Does not work well because some channels have more noise that others.\n",
    "Fs = 48000\n",
    "sumSig = np.zeros_like(sDataset[names[0]][:,0])\n",
    "for name in names:\n",
    "    sumSig = sumSig + np.array(sDataset[name][:,0],dtype = 'float64')\n",
    "    \n",
    "time = np.linspace(0,(1/Fs)*len(sumSig),len(sumSig))"
   ]
  },
  {
   "cell_type": "code",
   "execution_count": null,
   "metadata": {
    "collapsed": true
   },
   "outputs": [],
   "source": [
    "# Normalizes the functions to have the same mean power\n",
    "scales = {}\n",
    "sDataset = {} # new Scaled Dataset (hopefully makes the noise levels roughly the same)\n",
    "Fs = 48000; #sampling frequency in Hz\n",
    "for name in names:\n",
    "    csignal = cDataset[name][:,0]\n",
    "    time = (1/Fs)*np.linspace(0,len(csignal),len(csignal))\n",
    "    integral = np.trapz(abs(csignal),time)\n",
    "    scales[name]= integral\n",
    "    sDataset[name] = csignal/integral\n",
    "    \n",
    "print(scales)"
   ]
  }
 ],
 "metadata": {
  "kernelspec": {
   "display_name": "Python 3",
   "language": "python",
   "name": "python3"
  },
  "language_info": {
   "codemirror_mode": {
    "name": "ipython",
    "version": 3
   },
   "file_extension": ".py",
   "mimetype": "text/x-python",
   "name": "python",
   "nbconvert_exporter": "python",
   "pygments_lexer": "ipython3",
   "version": "3.5.1"
  }
 },
 "nbformat": 4,
 "nbformat_minor": 0
}
